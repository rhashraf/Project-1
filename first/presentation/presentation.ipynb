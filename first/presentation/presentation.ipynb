{
 "cells": [
  {
   "cell_type": "markdown",
   "id": "0467eccf",
   "metadata": {},
   "source": [
    "The Module Search Path\n",
    "When importing a module, Python searches in a specific order:\n",
    "\n",
    "The directory containing the script (or the current directory).\n",
    "\n",
    "Directories listed in the PYTHONPATH environment variable.\n",
    "\n",
    "Default directories defined by Python (e.g., standard library paths)."
   ]
  },
  {
   "cell_type": "code",
   "execution_count": 22,
   "id": "3ac4811f",
   "metadata": {},
   "outputs": [
    {
     "name": "stdout",
     "output_type": "stream",
     "text": [
      "Module search paths:\n",
      "C:\\Users\\RHASH\\AppData\\Local\\Programs\\Python\\Python311\\python311.zip\n",
      "C:\\Users\\RHASH\\AppData\\Local\\Programs\\Python\\Python311\\DLLs\n",
      "C:\\Users\\RHASH\\AppData\\Local\\Programs\\Python\\Python311\\Lib\n",
      "C:\\Users\\RHASH\\AppData\\Local\\Programs\\Python\\Python311\n",
      "c:\\Users\\RHASH\\OneDrive\\Documents\\5.9.25\\Project-1\\first\n",
      "\n",
      "c:\\Users\\RHASH\\OneDrive\\Documents\\5.9.25\\Project-1\\first\\Lib\\site-packages\n",
      "c:\\Users\\RHASH\\OneDrive\\Documents\\5.9.25\\Project-1\\first\\Lib\\site-packages\\win32\n",
      "c:\\Users\\RHASH\\OneDrive\\Documents\\5.9.25\\Project-1\\first\\Lib\\site-packages\\win32\\lib\n",
      "c:\\Users\\RHASH\\OneDrive\\Documents\\5.9.25\\Project-1\\first\\Lib\\site-packages\\Pythonwin\n",
      "/path/to/sahre_utils\n"
     ]
    }
   ],
   "source": [
    "#Module search Path\n",
    "import sys\n",
    "\n",
    "print(\"Module search paths:\")\n",
    "\n",
    "for path in sys.path:\n",
    "   print(path)\n",
    "\n"
   ]
  },
  {
   "cell_type": "markdown",
   "id": "951ebabd",
   "metadata": {},
   "source": [
    "Compiled Python Files (.pyc and .pyo)\n",
    "Python compiles .py files into bytecode (.pyc) for efficiency.\n",
    "\n",
    "Located in a __pycache__ directory, with a filename based on Python version.\n",
    "\n",
    "Running a script directly doesn’t produce .pyc files, but imports do."
   ]
  },
  {
   "cell_type": "code",
   "execution_count": null,
   "id": "5253c4fa",
   "metadata": {},
   "outputs": [
    {
     "data": {
      "text/plain": [
       "'Hello World'"
      ]
     },
     "execution_count": 18,
     "metadata": {},
     "output_type": "execute_result"
    }
   ],
   "source": [
    "# Compiled python files\n",
    "from myutils import test\n",
    "\n",
    "\n",
    "test.hello()\n",
    "\n"
   ]
  },
  {
   "cell_type": "markdown",
   "id": "e0b7738c",
   "metadata": {},
   "source": [
    "Standard Modules\n",
    "These are built-in modules shipped with Python (e.g., sys, os, math).\n",
    "\n",
    "No need for installation, they are always available."
   ]
  },
  {
   "cell_type": "code",
   "execution_count": 36,
   "id": "dcd10053",
   "metadata": {},
   "outputs": [
    {
     "name": "stdout",
     "output_type": "stream",
     "text": [
      "Current Timestamp: 2025-05-16 14:03:40.011115\n",
      "c:\\Users\\RHASH\\OneDrive\\Documents\\5.9.25\\Project-1\\first\\presentation\n"
     ]
    }
   ],
   "source": [
    "#Standard Modules Builtin\n",
    "import datetime \n",
    "\n",
    "print(\"Current Timestamp:\", datetime.datetime.now())\n",
    "\n",
    "import os\n",
    "print(os.getcwd())"
   ]
  },
  {
   "cell_type": "markdown",
   "id": "5dec08a2",
   "metadata": {},
   "source": [
    "Packages\n",
    "A package is a directory containing an __init__.py file (optional in Python 3.x).\n",
    "\n",
    "Helps organize modules into hierarchies.\n",
    "\n",
    "myutils/\n",
    "    __init__.py\n",
    "    test1.py\n",
    "    test22.py"
   ]
  },
  {
   "cell_type": "code",
   "execution_count": 39,
   "id": "c35ebe5f",
   "metadata": {},
   "outputs": [
    {
     "data": {
      "text/plain": [
       "'implement'"
      ]
     },
     "execution_count": 39,
     "metadata": {},
     "output_type": "execute_result"
    }
   ],
   "source": [
    "#Package\n",
    "from myutils import test2\n",
    "\n",
    "\n",
    "test2.packag()"
   ]
  },
  {
   "cell_type": "markdown",
   "id": "d1ab0d8b",
   "metadata": {},
   "source": [
    "Importing * From a Package\n",
    "Using from package import * imports all modules listed in __all__ within __init__.py.\n",
    "\n",
    "Without __all__, only direct modules are imported."
   ]
  },
  {
   "cell_type": "code",
   "execution_count": 38,
   "id": "66daa24a",
   "metadata": {},
   "outputs": [
    {
     "data": {
      "text/plain": [
       "'implement'"
      ]
     },
     "execution_count": 38,
     "metadata": {},
     "output_type": "execute_result"
    }
   ],
   "source": [
    "# Import * from a package\n",
    "from myutils import *\n",
    "\n",
    "test.hello()\n",
    "\n",
    "test2.packag()\n",
    "\n"
   ]
  },
  {
   "cell_type": "code",
   "execution_count": null,
   "id": "37dc3737",
   "metadata": {},
   "outputs": [
    {
     "name": "stdout",
     "output_type": "stream",
     "text": [
      "Hello, Alice! Welcome!\n"
     ]
    }
   ],
   "source": [
    "import sys\n",
    "sys.path.append(\"./myutils\")  # Add package directory to the path\n",
    "\n",
    "from myutils.test2 import welcome_message\n",
    "\n",
    "print(welcome_message(\"Good Afternoon\"))\n"
   ]
  },
  {
   "cell_type": "markdown",
   "id": "94980331",
   "metadata": {},
   "source": [
    "Packages in Multiple Directories\n",
    "Python allows defining packages across multiple directories using sys.path modifications or environment variables.\n",
    "\n",
    "Useful for large projects or external integrations."
   ]
  },
  {
   "cell_type": "code",
   "execution_count": 21,
   "id": "c98394b0",
   "metadata": {},
   "outputs": [
    {
     "name": "stdout",
     "output_type": "stream",
     "text": [
      "C:\\Users\\RHASH\\AppData\\Local\\Programs\\Python\\Python311\\python311.zip\n",
      "C:\\Users\\RHASH\\AppData\\Local\\Programs\\Python\\Python311\\DLLs\n",
      "C:\\Users\\RHASH\\AppData\\Local\\Programs\\Python\\Python311\\Lib\n",
      "C:\\Users\\RHASH\\AppData\\Local\\Programs\\Python\\Python311\n",
      "c:\\Users\\RHASH\\OneDrive\\Documents\\5.9.25\\Project-1\\first\n",
      "\n",
      "c:\\Users\\RHASH\\OneDrive\\Documents\\5.9.25\\Project-1\\first\\Lib\\site-packages\n",
      "c:\\Users\\RHASH\\OneDrive\\Documents\\5.9.25\\Project-1\\first\\Lib\\site-packages\\win32\n",
      "c:\\Users\\RHASH\\OneDrive\\Documents\\5.9.25\\Project-1\\first\\Lib\\site-packages\\win32\\lib\n",
      "c:\\Users\\RHASH\\OneDrive\\Documents\\5.9.25\\Project-1\\first\\Lib\\site-packages\\Pythonwin\n",
      "/path/to/sahre_utils\n"
     ]
    }
   ],
   "source": [
    "# Packages in Multiple Directories\n",
    "\n",
    "import sys\n",
    "\n",
    "for path in sys.path:\n",
    "    print(path)\n",
    "\n",
    "\n",
    "\n"
   ]
  }
 ],
 "metadata": {
  "kernelspec": {
   "display_name": "first",
   "language": "python",
   "name": "python3"
  },
  "language_info": {
   "codemirror_mode": {
    "name": "ipython",
    "version": 3
   },
   "file_extension": ".py",
   "mimetype": "text/x-python",
   "name": "python",
   "nbconvert_exporter": "python",
   "pygments_lexer": "ipython3",
   "version": "3.11.9"
  }
 },
 "nbformat": 4,
 "nbformat_minor": 5
}
