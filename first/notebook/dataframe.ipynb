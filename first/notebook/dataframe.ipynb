{
 "cells": [
  {
   "cell_type": "code",
   "execution_count": 16,
   "id": "bbcf2aaf",
   "metadata": {},
   "outputs": [],
   "source": [
    "import pandas as pd\n",
    "\n",
    "\n"
   ]
  },
  {
   "cell_type": "code",
   "execution_count": 17,
   "id": "1b773028",
   "metadata": {},
   "outputs": [
    {
     "name": "stdout",
     "output_type": "stream",
     "text": [
      "The dataframe has 10 row and 2 columns\n"
     ]
    }
   ],
   "source": [
    "df = pd.read_csv('locations.csv')\n",
    "\n",
    "\n",
    "# df.head() Show the first 5 rows \n",
    "\n",
    "dg = pd.DataFrame(df)\n",
    "\n",
    "rows, columns = dg.shape\n",
    "print(f\"The dataframe has {rows} row and {columns} columns\")\n",
    "\n"
   ]
  },
  {
   "cell_type": "code",
   "execution_count": null,
   "id": "8f7def85",
   "metadata": {},
   "outputs": [
    {
     "name": "stdout",
     "output_type": "stream",
     "text": [
      "Mean:\n",
      " EmployeeID        5.5\n",
      "Salary        61900.0\n",
      "Bonus          5850.0\n",
      "dtype: float64\n",
      "Median:\n",
      " EmployeeID        5.5\n",
      "Salary        57500.0\n",
      "Bonus          5500.0\n",
      "dtype: float64\n",
      "Mode:\n",
      " EmployeeID        1\n",
      "Salary        43000\n",
      "Bonus          1500\n",
      "Name: 0, dtype: int64\n",
      "Standard Deviation EmployeeID        3.027650\n",
      "Salary        16044.729145\n",
      "Bonus          3448.429594\n",
      "dtype: float64\n"
     ]
    }
   ],
   "source": [
    "ds = pd.read_csv('salaries.csv')\n",
    "\n",
    "dh = pd.DataFrame(ds)\n",
    "\n",
    "mean_values = dh.mean()\n",
    "\n",
    "median_values = dh.median()\n",
    "\n",
    "mode_values = dh.mode().iloc[0]\n",
    "\n",
    "std_values = dh.std()\n",
    "\n",
    "print(\"Mean:\\n\",mean_values)\n",
    "\n",
    "print(\"Median:\\n\",median_values)\n",
    "\n",
    "print(\"Mode:\\n\",mode_values)\n",
    "\n",
    "print(\"Standard Deviation\\n\",std_values)\n",
    "\n"
   ]
  },
  {
   "cell_type": "code",
   "execution_count": 26,
   "id": "4822fec3",
   "metadata": {},
   "outputs": [
    {
     "name": "stdout",
     "output_type": "stream",
     "text": [
      "ProjectID       int64\n",
      "EmployeeID      int64\n",
      "ProjectName    object\n",
      "dtype: object\n"
     ]
    }
   ],
   "source": [
    "dr = pd.read_csv('projects.csv')\n",
    "\n",
    "dt = pd.DataFrame(dr)\n",
    "\n",
    "# print(dt) Show all the entries\n",
    "\n",
    "print(dt.dtypes)"
   ]
  },
  {
   "cell_type": "code",
   "execution_count": null,
   "id": "b3c1a573",
   "metadata": {},
   "outputs": [
    {
     "name": "stdout",
     "output_type": "stream",
     "text": [
      "ProjectID      0\n",
      "EmployeeID     0\n",
      "ProjectName    0\n",
      "dtype: int64\n"
     ]
    }
   ],
   "source": [
    "du = pd.read_csv('employees.csv')\n",
    "\n",
    "dv = pd.DataFrame(du)\n",
    "\n",
    "missin_values = dv.isnull().sum()\n",
    "# df.isnull(): Returns a DataFrame of the same shape as df, with True for missing values (NaN) and False otherwise.\n",
    "# .sum(): Sums up the True values (treated as 1) for each column, giving the count of missing values per column.\n",
    "print(missin_values)"
   ]
  },
  {
   "cell_type": "code",
   "execution_count": 33,
   "id": "6c555978",
   "metadata": {},
   "outputs": [
    {
     "name": "stdout",
     "output_type": "stream",
     "text": [
      "   DepartmentID   Department    designation\n",
      "0             1  Engineering       John Doe\n",
      "1             2    Marketing     Jane Smith\n",
      "2             3           HR  Michael Brown\n"
     ]
    }
   ],
   "source": [
    "dx = pd.read_csv('departments.csv')\n",
    "dz = pd.DataFrame(dx)\n",
    "dz = dz.rename(columns={'Manager':'designation'})\n",
    "\n",
    "print(dz)"
   ]
  },
  {
   "cell_type": "code",
   "execution_count": 38,
   "id": "7ee82307",
   "metadata": {},
   "outputs": [
    {
     "name": "stdout",
     "output_type": "stream",
     "text": [
      "   EmployeeID     Name Department  Salary\n",
      "6           7  Michael         HR   82000\n",
      "9          10    Susan         HR   90000\n"
     ]
    }
   ],
   "source": [
    "# Employee Table\n",
    "# dv = pd.DataFrame(du)\n",
    "# filtered_dd = dv[dv['Salary']>50000]\n",
    "\n",
    "filtered_dd = dv[dv['Salary']>80000]\n",
    "\n",
    "print(filtered_dd)"
   ]
  },
  {
   "cell_type": "code",
   "execution_count": 44,
   "id": "441c7f8a",
   "metadata": {},
   "outputs": [
    {
     "name": "stdout",
     "output_type": "stream",
     "text": [
      "    Department    designation\n",
      "0  Engineering       John Doe\n",
      "1    Marketing     Jane Smith\n",
      "2           HR  Michael Brown\n"
     ]
    }
   ],
   "source": [
    "# Department Table\n",
    "\n",
    "#selected_columns=dz[['Department','Manager']] #First Way to filter  and Manager changes to desingation\n",
    "\n",
    "\n",
    "#selected_columns=dz[['Department','designation']] First way to filter\n",
    "\n",
    "\n",
    "selected_columns = dz.filter(items=['Department','designation'])\n",
    "\n",
    "print(selected_columns)"
   ]
  },
  {
   "cell_type": "code",
   "execution_count": 61,
   "id": "143213a0",
   "metadata": {},
   "outputs": [
    {
     "name": "stdout",
     "output_type": "stream",
     "text": [
      "Empty DataFrame\n",
      "Columns: []\n",
      "Index: [0, 1, 2, 3, 4, 5, 6, 7, 8, 9]\n"
     ]
    }
   ],
   "source": [
    "# Projects \n",
    "\n",
    "# dt = dt.drop('ProjectName',axis=1) # In this projectName drop so we can not use it further\n",
    "\n",
    "dt = dt.drop(['ProjectID','EmployeeID'],axis=1)\n",
    "\n",
    "print(dt)"
   ]
  },
  {
   "cell_type": "code",
   "execution_count": null,
   "id": "bccd185b",
   "metadata": {},
   "outputs": [
    {
     "name": "stdout",
     "output_type": "stream",
     "text": [
      "   EmployeeID  Salary  Bonus\n",
      "0           1   55000  20000\n",
      "1           2   46000  12000\n",
      "2           3   60000  28000\n",
      "3           4   75000  32000\n",
      "4           5   49000   8000\n",
      "5           6   52000  16000\n",
      "6           7   82000  40000\n",
      "7           8   67000  24000\n",
      "8           9   43000   6000\n",
      "9          10   90000  48000\n"
     ]
    }
   ],
   "source": [
    "#Salaries dh\n",
    "\n",
    "# dh['Bonus'] = dh['Bonus']*2\n",
    "\n",
    "dh['Bonus'] = dh['Bonus'].apply(lambda x: x * 2)\n",
    "# Both approaches achieve the same result, but the vectorized operation (Option 1) is \n",
    "# generally faster and more efficient in Pandas. Use .apply() when you need more \n",
    "# complex transformations.\n",
    "print(dh)"
   ]
  },
  {
   "cell_type": "code",
   "execution_count": 67,
   "id": "6165b1ae",
   "metadata": {},
   "outputs": [
    {
     "name": "stdout",
     "output_type": "stream",
     "text": [
      "  ProjectN EmployeeID\n",
      "0    Alpha          1\n",
      "1     Beta          2\n"
     ]
    }
   ],
   "source": [
    "#Project  dt\n",
    "dt = pd.DataFrame({'ProjectN':['Alpha','Beta'],'EmployeeID':['1','2']})\n",
    "print(dt)"
   ]
  },
  {
   "cell_type": "code",
   "execution_count": null,
   "id": "dde2139e",
   "metadata": {},
   "outputs": [
    {
     "name": "stdout",
     "output_type": "stream",
     "text": [
      "Department\n",
      "Engineering    58500.000000\n",
      "HR             82333.333333\n",
      "Marketing      46000.000000\n",
      "Name: Salary, dtype: float64\n"
     ]
    }
   ],
   "source": [
    "#Employees dv\n",
    "#On average which department take more salary\n",
    "grouped_mean = dv.groupby('Department')['Salary'].mean()\n",
    "print(grouped_mean)"
   ]
  },
  {
   "cell_type": "code",
   "execution_count": 73,
   "id": "4c13ae8e",
   "metadata": {},
   "outputs": [
    {
     "name": "stdout",
     "output_type": "stream",
     "text": [
      "   EmployeeID       Location\n",
      "8           9        Seattle\n",
      "1           2  San Francisco\n",
      "0           1       New York\n",
      "6           7          Miami\n",
      "4           5    Los Angeles\n",
      "9          10         Denver\n",
      "7           8         Dallas\n",
      "3           4        Chicago\n",
      "2           3         Boston\n",
      "5           6         Austin\n"
     ]
    }
   ],
   "source": [
    "#Location dg\n",
    "\n",
    "# sorted_dg = dg.sort_values(by='Location')\n",
    "\n",
    "sorted_dg = dg.sort_values(by='Location', ascending=False)\n",
    "\n",
    "print(sorted_dg)"
   ]
  },
  {
   "cell_type": "code",
   "execution_count": 76,
   "id": "ebd808cd",
   "metadata": {},
   "outputs": [
    {
     "name": "stdout",
     "output_type": "stream",
     "text": [
      "   EmployeeID_x       Name   Department  Salary  EmployeeID_y  Bonus\n",
      "0             1       John  Engineering   55000             1  20000\n",
      "1             2       Anna    Marketing   46000             2  12000\n",
      "2             3      Peter  Engineering   60000             3  28000\n",
      "3             4      Linda           HR   75000             4  32000\n",
      "4             5      James    Marketing   49000             5   8000\n",
      "5             6   Patricia  Engineering   52000             6  16000\n",
      "6             7    Michael           HR   82000             7  40000\n",
      "7             8  Elizabeth  Engineering   67000             8  24000\n",
      "8             9      David    Marketing   43000             9   6000\n",
      "9            10      Susan           HR   90000            10  48000\n"
     ]
    }
   ],
   "source": [
    "#Employees dv and Salaries dh\n",
    "\n",
    "merge_dataF = pd.merge(dv, dh, on='Salary')\n",
    "\n",
    "print(merge_dataF)"
   ]
  },
  {
   "cell_type": "code",
   "execution_count": null,
   "id": "c7131cc9",
   "metadata": {},
   "outputs": [
    {
     "name": "stdout",
     "output_type": "stream",
     "text": [
      "   DepartmentID   Department    designation  EmployeeID       Location\n",
      "0             1  Engineering       John Doe           1       New York\n",
      "1             2    Marketing     Jane Smith           2  San Francisco\n",
      "2             3           HR  Michael Brown           3         Boston\n"
     ]
    }
   ],
   "source": [
    "#Departments dz and Locations dg\n",
    "\n",
    "join = dz.join(dg)\n",
    "\n",
    "print(join)"
   ]
  },
  {
   "cell_type": "code",
   "execution_count": 78,
   "id": "f3e1bf62",
   "metadata": {},
   "outputs": [
    {
     "name": "stdout",
     "output_type": "stream",
     "text": [
      "   EmployeeID  Salary  Bonus\n",
      "0           1  110000  20000\n",
      "1           2   92000  12000\n",
      "2           3  120000  28000\n",
      "3           4  150000  32000\n",
      "4           5   98000   8000\n",
      "5           6  104000  16000\n",
      "6           7  164000  40000\n",
      "7           8  134000  24000\n",
      "8           9   86000   6000\n",
      "9          10  180000  48000\n"
     ]
    }
   ],
   "source": [
    "# Salaries dh \n",
    "\n",
    "dh['Salary'] = dh['Salary'].apply(lambda x: x * 2)\n",
    "\n",
    "print(dh)\n"
   ]
  },
  {
   "cell_type": "code",
   "execution_count": null,
   "id": "570d33e8",
   "metadata": {},
   "outputs": [
    {
     "name": "stdout",
     "output_type": "stream",
     "text": [
      "   EmployeeID     Name Department  Salary\n",
      "3           4    Linda         HR   75000\n",
      "6           7  Michael         HR   82000\n",
      "9          10    Susan         HR   90000\n"
     ]
    }
   ],
   "source": [
    "#EMployee dv\n",
    "#Create a new DataFrame by filtering rows based on multiple conditions.\n",
    "\n",
    "filtered_dv = dv[(dv['Department']=='HR')& (dv['Salary']>50000)]\n",
    "\n",
    "print(filtered_dv)"
   ]
  },
  {
   "cell_type": "code",
   "execution_count": null,
   "id": "d4894ef5",
   "metadata": {},
   "outputs": [
    {
     "name": "stdout",
     "output_type": "stream",
     "text": [
      "   EmployeeID  Location\n",
      "0           1       NaN\n",
      "1           2       NaN\n",
      "2           3       NaN\n",
      "3           4       NaN\n",
      "4           5       NaN\n",
      "5           6       NaN\n",
      "6           7       NaN\n",
      "7           8       NaN\n",
      "8           9       NaN\n",
      "9          10       NaN\n"
     ]
    }
   ],
   "source": [
    "#Location Dg\n",
    "\n",
    "#Convert a column from string to a numeric type. \n",
    "\n",
    "# dg['Location'] = pd.to_numeric(dg['Location'],errors='coerce')\n",
    "dg['Location'] = dg['Location'].astype(str)\n",
    "print(dg)"
   ]
  }
 ],
 "metadata": {
  "kernelspec": {
   "display_name": "first",
   "language": "python",
   "name": "python3"
  },
  "language_info": {
   "codemirror_mode": {
    "name": "ipython",
    "version": 3
   },
   "file_extension": ".py",
   "mimetype": "text/x-python",
   "name": "python",
   "nbconvert_exporter": "python",
   "pygments_lexer": "ipython3",
   "version": "3.11.9"
  }
 },
 "nbformat": 4,
 "nbformat_minor": 5
}
